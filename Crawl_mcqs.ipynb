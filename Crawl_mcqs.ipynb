{
  "nbformat": 4,
  "nbformat_minor": 0,
  "metadata": {
    "colab": {
      "provenance": []
    },
    "kernelspec": {
      "name": "python3",
      "display_name": "Python 3"
    },
    "language_info": {
      "name": "python"
    }
  },
  "cells": [
    {
      "cell_type": "code",
      "execution_count": null,
      "metadata": {
        "colab": {
          "base_uri": "https://localhost:8080/"
        },
        "collapsed": true,
        "id": "tOWJk6gg-O9b",
        "outputId": "c1dda141-a7e9-432f-dba2-5760eeb3cca4"
      },
      "outputs": [
        {
          "output_type": "stream",
          "name": "stdout",
          "text": [
            "The following additional packages will be installed:\n",
            "  apparmor chromium-browser libfuse3-3 liblzo2-2 libudev1 snapd squashfs-tools systemd-hwe-hwdb\n",
            "  udev\n",
            "Suggested packages:\n",
            "  apparmor-profiles-extra apparmor-utils fuse3 zenity | kdialog\n",
            "The following NEW packages will be installed:\n",
            "  apparmor chromium-browser chromium-chromedriver libfuse3-3 liblzo2-2 snapd squashfs-tools\n",
            "  systemd-hwe-hwdb udev\n",
            "The following packages will be upgraded:\n",
            "  libudev1\n",
            "1 upgraded, 9 newly installed, 0 to remove and 48 not upgraded.\n",
            "Need to get 28.5 MB of archives.\n",
            "After this operation, 118 MB of additional disk space will be used.\n",
            "Preconfiguring packages ...\n",
            "Selecting previously unselected package apparmor.\n",
            "(Reading database ... 123597 files and directories currently installed.)\n",
            "Preparing to unpack .../apparmor_3.0.4-2ubuntu2.3build2_amd64.deb ...\n",
            "Unpacking apparmor (3.0.4-2ubuntu2.3build2) ...\n",
            "Selecting previously unselected package liblzo2-2:amd64.\n",
            "Preparing to unpack .../liblzo2-2_2.10-2build3_amd64.deb ...\n",
            "Unpacking liblzo2-2:amd64 (2.10-2build3) ...\n",
            "Selecting previously unselected package squashfs-tools.\n",
            "Preparing to unpack .../squashfs-tools_1%3a4.5-3build1_amd64.deb ...\n",
            "Unpacking squashfs-tools (1:4.5-3build1) ...\n",
            "Preparing to unpack .../libudev1_249.11-0ubuntu3.12_amd64.deb ...\n",
            "Unpacking libudev1:amd64 (249.11-0ubuntu3.12) over (249.11-0ubuntu3.10) ...\n",
            "Setting up libudev1:amd64 (249.11-0ubuntu3.12) ...\n",
            "Selecting previously unselected package udev.\n",
            "(Reading database ... 123805 files and directories currently installed.)\n",
            "Preparing to unpack .../udev_249.11-0ubuntu3.12_amd64.deb ...\n",
            "Unpacking udev (249.11-0ubuntu3.12) ...\n",
            "Selecting previously unselected package libfuse3-3:amd64.\n",
            "Preparing to unpack .../libfuse3-3_3.10.5-1build1_amd64.deb ...\n",
            "Unpacking libfuse3-3:amd64 (3.10.5-1build1) ...\n",
            "Selecting previously unselected package snapd.\n",
            "Preparing to unpack .../snapd_2.63+22.04ubuntu0.1_amd64.deb ...\n",
            "Unpacking snapd (2.63+22.04ubuntu0.1) ...\n",
            "Setting up apparmor (3.0.4-2ubuntu2.3build2) ...\n",
            "Created symlink /etc/systemd/system/sysinit.target.wants/apparmor.service → /lib/systemd/system/apparmor.service.\n",
            "Setting up liblzo2-2:amd64 (2.10-2build3) ...\n",
            "Setting up squashfs-tools (1:4.5-3build1) ...\n",
            "Setting up udev (249.11-0ubuntu3.12) ...\n",
            "invoke-rc.d: could not determine current runlevel\n",
            "invoke-rc.d: policy-rc.d denied execution of start.\n",
            "Setting up libfuse3-3:amd64 (3.10.5-1build1) ...\n",
            "Setting up snapd (2.63+22.04ubuntu0.1) ...\n",
            "Created symlink /etc/systemd/system/multi-user.target.wants/snapd.apparmor.service → /lib/systemd/system/snapd.apparmor.service.\n",
            "Created symlink /etc/systemd/system/multi-user.target.wants/snapd.autoimport.service → /lib/systemd/system/snapd.autoimport.service.\n",
            "Created symlink /etc/systemd/system/multi-user.target.wants/snapd.core-fixup.service → /lib/systemd/system/snapd.core-fixup.service.\n",
            "Created symlink /etc/systemd/system/multi-user.target.wants/snapd.recovery-chooser-trigger.service → /lib/systemd/system/snapd.recovery-chooser-trigger.service.\n",
            "Created symlink /etc/systemd/system/multi-user.target.wants/snapd.seeded.service → /lib/systemd/system/snapd.seeded.service.\n",
            "Created symlink /etc/systemd/system/cloud-final.service.wants/snapd.seeded.service → /lib/systemd/system/snapd.seeded.service.\n",
            "Unit /lib/systemd/system/snapd.seeded.service is added as a dependency to a non-existent unit cloud-final.service.\n",
            "Created symlink /etc/systemd/system/multi-user.target.wants/snapd.service → /lib/systemd/system/snapd.service.\n",
            "Created symlink /etc/systemd/system/timers.target.wants/snapd.snap-repair.timer → /lib/systemd/system/snapd.snap-repair.timer.\n",
            "Created symlink /etc/systemd/system/sockets.target.wants/snapd.socket → /lib/systemd/system/snapd.socket.\n",
            "Created symlink /etc/systemd/system/final.target.wants/snapd.system-shutdown.service → /lib/systemd/system/snapd.system-shutdown.service.\n",
            "Selecting previously unselected package chromium-browser.\n",
            "(Reading database ... 124035 files and directories currently installed.)\n",
            "Preparing to unpack .../chromium-browser_1%3a85.0.4183.83-0ubuntu2.22.04.1_amd64.deb ...\n",
            "=> Installing the chromium snap\n",
            "==> Checking connectivity with the snap store\n",
            "===> System doesn't have a working snapd, skipping\n",
            "Unpacking chromium-browser (1:85.0.4183.83-0ubuntu2.22.04.1) ...\n",
            "Selecting previously unselected package chromium-chromedriver.\n",
            "Preparing to unpack .../chromium-chromedriver_1%3a85.0.4183.83-0ubuntu2.22.04.1_amd64.deb ...\n",
            "Unpacking chromium-chromedriver (1:85.0.4183.83-0ubuntu2.22.04.1) ...\n",
            "Selecting previously unselected package systemd-hwe-hwdb.\n",
            "Preparing to unpack .../systemd-hwe-hwdb_249.11.5_all.deb ...\n",
            "Unpacking systemd-hwe-hwdb (249.11.5) ...\n",
            "Setting up systemd-hwe-hwdb (249.11.5) ...\n",
            "Setting up chromium-browser (1:85.0.4183.83-0ubuntu2.22.04.1) ...\n",
            "update-alternatives: using /usr/bin/chromium-browser to provide /usr/bin/x-www-browser (x-www-browser) in auto mode\n",
            "update-alternatives: using /usr/bin/chromium-browser to provide /usr/bin/gnome-www-browser (gnome-www-browser) in auto mode\n",
            "Setting up chromium-chromedriver (1:85.0.4183.83-0ubuntu2.22.04.1) ...\n",
            "Processing triggers for udev (249.11-0ubuntu3.12) ...\n",
            "Processing triggers for hicolor-icon-theme (0.17-2) ...\n",
            "Processing triggers for libc-bin (2.35-0ubuntu3.4) ...\n",
            "/sbin/ldconfig.real: /usr/local/lib/libur_adapter_level_zero.so.0 is not a symbolic link\n",
            "\n",
            "/sbin/ldconfig.real: /usr/local/lib/libtbbbind.so.3 is not a symbolic link\n",
            "\n",
            "/sbin/ldconfig.real: /usr/local/lib/libtbb.so.12 is not a symbolic link\n",
            "\n",
            "/sbin/ldconfig.real: /usr/local/lib/libtbbmalloc.so.2 is not a symbolic link\n",
            "\n",
            "/sbin/ldconfig.real: /usr/local/lib/libtbbbind_2_0.so.3 is not a symbolic link\n",
            "\n",
            "/sbin/ldconfig.real: /usr/local/lib/libtbbmalloc_proxy.so.2 is not a symbolic link\n",
            "\n",
            "/sbin/ldconfig.real: /usr/local/lib/libur_adapter_opencl.so.0 is not a symbolic link\n",
            "\n",
            "/sbin/ldconfig.real: /usr/local/lib/libur_loader.so.0 is not a symbolic link\n",
            "\n",
            "/sbin/ldconfig.real: /usr/local/lib/libtbbbind_2_5.so.3 is not a symbolic link\n",
            "\n",
            "Processing triggers for man-db (2.10.2-1) ...\n",
            "Processing triggers for dbus (1.12.20-2ubuntu4.1) ...\n"
          ]
        }
      ],
      "source": [
        "!apt install -qq chromium-chromedriver"
      ]
    },
    {
      "cell_type": "code",
      "source": [
        "!pip install -qq selenium"
      ],
      "metadata": {
        "colab": {
          "base_uri": "https://localhost:8080/"
        },
        "id": "44y_QFdCAhcj",
        "outputId": "45491a34-3a28-4ffe-b9ca-8539ee0eddcb"
      },
      "execution_count": null,
      "outputs": [
        {
          "output_type": "stream",
          "name": "stdout",
          "text": [
            "\u001b[2K   \u001b[90m━━━━━━━━━━━━━━━━━━━━━━━━━━━━━━━━━━━━━━━━\u001b[0m \u001b[32m9.6/9.6 MB\u001b[0m \u001b[31m47.3 MB/s\u001b[0m eta \u001b[36m0:00:00\u001b[0m\n",
            "\u001b[2K   \u001b[90m━━━━━━━━━━━━━━━━━━━━━━━━━━━━━━━━━━━━━━━━\u001b[0m \u001b[32m476.0/476.0 kB\u001b[0m \u001b[31m37.2 MB/s\u001b[0m eta \u001b[36m0:00:00\u001b[0m\n",
            "\u001b[2K   \u001b[90m━━━━━━━━━━━━━━━━━━━━━━━━━━━━━━━━━━━━━━━━\u001b[0m \u001b[32m58.3/58.3 kB\u001b[0m \u001b[31m4.2 MB/s\u001b[0m eta \u001b[36m0:00:00\u001b[0m\n",
            "\u001b[?25h"
          ]
        }
      ]
    },
    {
      "cell_type": "code",
      "source": [
        "# selenium import\n",
        "from selenium import webdriver\n",
        "from selenium.webdriver.chrome.service import Service\n",
        "from selenium.webdriver.common.by import By\n",
        "from selenium.common.exceptions import StaleElementReferenceException, NoSuchElementException\n",
        "\n",
        "# other imports\n",
        "import os\n",
        "import json\n",
        "from tqdm import tqdm"
      ],
      "metadata": {
        "id": "vlrqQdoNAjDy"
      },
      "execution_count": null,
      "outputs": []
    },
    {
      "cell_type": "code",
      "source": [
        "# from google.colab import drive\n",
        "# drive.mount('/content/drive')"
      ],
      "metadata": {
        "id": "hTdeSE6dAmN1"
      },
      "execution_count": null,
      "outputs": []
    },
    {
      "cell_type": "code",
      "source": [
        "chrome_options = webdriver.ChromeOptions()\n",
        "\n",
        "chrome_options.add_argument('--headless') # must options for Google Colab\n",
        "chrome_options.add_argument('--no-sandbox')\n",
        "chrome_options.add_argument('--disable-dev-shm-usage')\n",
        "chrome_options.add_argument(\"--disable-extensions\")\n",
        "chrome_options.add_argument(\"--disable-gpu\")"
      ],
      "metadata": {
        "id": "Mk-PFi9QApA0"
      },
      "execution_count": null,
      "outputs": []
    },
    {
      "cell_type": "code",
      "source": [
        "with open('/content/drive/MyDrive/AI4E/NLP_RAG_Project/data/crawl_mcq_data/links.json', 'r') as fIn:\n",
        "  links = json.load(fIn)"
      ],
      "metadata": {
        "id": "XK5_4Iv9BbfQ"
      },
      "execution_count": null,
      "outputs": []
    },
    {
      "cell_type": "code",
      "source": [
        "links"
      ],
      "metadata": {
        "colab": {
          "base_uri": "https://localhost:8080/"
        },
        "id": "ZDFU8u8sCxdv",
        "outputId": "ad298c42-05fc-4f7f-824c-021870950ce1"
      },
      "execution_count": null,
      "outputs": [
        {
          "output_type": "execute_result",
          "data": {
            "text/plain": [
              "{'Hạng A1': 'https://lythuyet.onthigplx.vn/200-cau-hoi-dung-cho-sat-hach-lai-xe-mo-to-hang-a1/',\n",
              " 'Hạng A2': 'https://lythuyet.onthigplx.vn/450-cau-hoi-dung-cho-sat-hach-lai-xe-mo-to-hang-a2/',\n",
              " 'Hạng A3, A4': 'https://lythuyet.onthigplx.vn/500-cau-hoi-dung-cho-sat-hach-lai-xe-hang-a3-a4/',\n",
              " 'Hạng B1': 'https://lythuyet.onthigplx.vn/574-cau-hoi-dung-cho-sat-hach-lai-xe-hang-b1/',\n",
              " 'Hạng B2, C, D, E,F 1': 'https://lythuyet.onthigplx.vn/166-cau-hoi-ve-khai-niem-va-quy-tac-giao-thong-duong-bo/',\n",
              " 'Hạng B2, C, D, E,F 2': 'https://lythuyet.onthigplx.vn/26-cau-hoi-ve-nghiep-vu-van-tai/',\n",
              " 'Hạng B2, C, D, E,F 3': 'https://lythuyet.onthigplx.vn/21-cau-hoi-ve-van-hoa-dao-duc-nguoi-lai-xe/',\n",
              " 'Hạng B2, C, D, E,F 4': 'https://lythuyet.onthigplx.vn/54-cau-hoi-ve-ky-thuat-lai-xe/',\n",
              " 'Hạng B2, C, D, E,F 5': 'https://lythuyet.onthigplx.vn/35-cau-hoi-ve-cau-tao-va-sua-chua-xe/'}"
            ]
          },
          "metadata": {},
          "execution_count": 8
        }
      ]
    },
    {
      "cell_type": "markdown",
      "source": [
        "## Thử nghiệm"
      ],
      "metadata": {
        "id": "P5q-TUwkCxu0"
      }
    },
    {
      "cell_type": "code",
      "source": [
        "driver = webdriver.Chrome(options=chrome_options)\n"
      ],
      "metadata": {
        "id": "juWBYJ-lCvMi"
      },
      "execution_count": null,
      "outputs": []
    },
    {
      "cell_type": "code",
      "source": [
        "driver.get(links[\"Hạng B2, C, D, E,F 5\"])"
      ],
      "metadata": {
        "id": "HWw6IMCVUOHI"
      },
      "execution_count": null,
      "outputs": []
    },
    {
      "cell_type": "code",
      "source": [
        "questions = driver.find_elements(By.XPATH, \"//p[strong[contains(text(), 'Câu')]]\")"
      ],
      "metadata": {
        "id": "VI4jdVXcER8P"
      },
      "execution_count": null,
      "outputs": []
    },
    {
      "cell_type": "code",
      "source": [
        "len(questions)"
      ],
      "metadata": {
        "colab": {
          "base_uri": "https://localhost:8080/"
        },
        "id": "Vwmo0WvbUHJr",
        "outputId": "6dc0db3a-97da-40d6-b3c7-3efcaeaa1849"
      },
      "execution_count": null,
      "outputs": [
        {
          "output_type": "execute_result",
          "data": {
            "text/plain": [
              "35"
            ]
          },
          "metadata": {},
          "execution_count": 72
        }
      ]
    },
    {
      "cell_type": "code",
      "source": [
        "questions[0].text"
      ],
      "metadata": {
        "colab": {
          "base_uri": "https://localhost:8080/",
          "height": 36
        },
        "id": "xcZti-IkEasr",
        "outputId": "0d2fc2f0-f2b7-419f-9047-0c8933b1f4b5"
      },
      "execution_count": null,
      "outputs": [
        {
          "output_type": "execute_result",
          "data": {
            "text/plain": [
              "'Câu 6. Người lái xe được hiểu như thế nào trong các khái niệm dưới đây?'"
            ],
            "application/vnd.google.colaboratory.intrinsic+json": {
              "type": "string"
            }
          },
          "metadata": {},
          "execution_count": 78
        }
      ]
    },
    {
      "cell_type": "code",
      "source": [
        "answers = driver.find_elements(By.XPATH, \"//ul[li/input[@type='checkbox']]\")"
      ],
      "metadata": {
        "id": "hWO1-z8yEoJj"
      },
      "execution_count": null,
      "outputs": []
    },
    {
      "cell_type": "code",
      "source": [
        "choice_1 = answers[0].find_elements(By.TAG_NAME, \"li\")\n",
        "correct_answer = [option.text for option in choice_1 if option.find_element(By.TAG_NAME, 'input').get_attribute('checked') is not None]"
      ],
      "metadata": {
        "id": "SrhhOWbDErQy"
      },
      "execution_count": null,
      "outputs": []
    },
    {
      "cell_type": "code",
      "source": [
        "i = 0\n",
        "for choice in choice_1:\n",
        "  i += 1\n",
        "  print(f\"{i}. {choice.text}\")\n",
        "print(correct_answer[0])"
      ],
      "metadata": {
        "colab": {
          "base_uri": "https://localhost:8080/"
        },
        "id": "8PmLVp8LFSWm",
        "outputId": "45fdb96f-6a8f-4d9b-82d3-0dd71f919ce1"
      },
      "execution_count": null,
      "outputs": [
        {
          "output_type": "stream",
          "name": "stdout",
          "text": [
            "1. Là người điều khiển xe cơ giới\n",
            "2. Là người điều khiển xe thô sơ.\n",
            "3. Là người điều khiển xe có súc vật kéo.\n",
            "Là người điều khiển xe cơ giới\n"
          ]
        }
      ]
    },
    {
      "cell_type": "code",
      "source": [
        "driver.close()"
      ],
      "metadata": {
        "id": "B619_KP2FoZ_"
      },
      "execution_count": null,
      "outputs": []
    },
    {
      "cell_type": "markdown",
      "source": [
        "## Chạy thật"
      ],
      "metadata": {
        "id": "rov17w05Fjdo"
      }
    },
    {
      "cell_type": "code",
      "source": [
        "results = []\n",
        "def get_mcqs(driver, link):\n",
        "  driver.get(link)\n",
        "  questions = questions = driver.find_elements(By.XPATH, \"//p[strong[contains(text(), 'Câu')]]\")\n",
        "  answers = driver.find_elements(By.XPATH, \"//ul[li/input[@type='checkbox']]\")\n",
        "\n",
        "  for question, answer in zip(questions, answers):\n",
        "    # Bỏ qua câu hỏi có hình ảnh\n",
        "    if question.find_elements(By.TAG_NAME, 'img'):\n",
        "        continue\n",
        "\n",
        "    question_text = question.text\n",
        "    options = answer.find_elements(by=By.TAG_NAME, value=\"li\")\n",
        "    choices = [option.text for option in options]\n",
        "    correct_answer = [option.text for option in options if option.find_element(By.TAG_NAME, 'input').get_attribute('checked') is not None]\n",
        "\n",
        "    results.append({\n",
        "        \"Câu hỏi\": question_text,\n",
        "        \"Các lựa chọn\": choices,\n",
        "        \"Đáp án đúng\": correct_answer\n",
        "    })\n"
      ],
      "metadata": {
        "id": "Px2SNA-vCCBw"
      },
      "execution_count": null,
      "outputs": []
    },
    {
      "cell_type": "code",
      "source": [
        "driver = webdriver.Chrome(options=chrome_options)\n",
        "for (level, link) in links.items():\n",
        "  print(f\"Processing {level}\")\n",
        "  get_mcqs(driver, link)\n",
        "driver.close()"
      ],
      "metadata": {
        "colab": {
          "base_uri": "https://localhost:8080/"
        },
        "id": "XycHR9CpHW7Z",
        "outputId": "12470e10-a55b-4263-fdd7-d9d087fe33d3"
      },
      "execution_count": null,
      "outputs": [
        {
          "output_type": "stream",
          "name": "stdout",
          "text": [
            "Processing Hạng A1\n",
            "Processing Hạng A2\n",
            "Processing Hạng A3, A4\n",
            "Processing Hạng B1\n",
            "Processing Hạng B2, C, D, E,F 1\n",
            "Processing Hạng B2, C, D, E,F 2\n",
            "Processing Hạng B2, C, D, E,F 3\n",
            "Processing Hạng B2, C, D, E,F 4\n",
            "Processing Hạng B2, C, D, E,F 5\n"
          ]
        }
      ]
    },
    {
      "cell_type": "code",
      "source": [
        "# Loại bỏ các câu trùng lặp giữa các hạng giấy phép\n",
        "new_results = []\n",
        "for result in results:\n",
        "  if result not in new_results:\n",
        "    new_results.append(result)"
      ],
      "metadata": {
        "id": "6lLSWxcV9D0U"
      },
      "execution_count": null,
      "outputs": []
    },
    {
      "cell_type": "code",
      "source": [
        "len(new_results)"
      ],
      "metadata": {
        "id": "Y1WFR71SEKFu",
        "outputId": "6152810d-88eb-4b2b-e7c3-eec5f4d700c4",
        "colab": {
          "base_uri": "https://localhost:8080/"
        }
      },
      "execution_count": null,
      "outputs": [
        {
          "output_type": "execute_result",
          "data": {
            "text/plain": [
              "279"
            ]
          },
          "metadata": {},
          "execution_count": 13
        }
      ]
    },
    {
      "cell_type": "code",
      "source": [
        "result_path = '/content/drive/MyDrive/AI4E/NLP_RAG_Project/data/crawl_mcq_data/crawled_mcqs.json'\n",
        "with open(result_path, 'w') as fOut:\n",
        "  json.dump(new_results, fOut, indent=4, ensure_ascii=False)"
      ],
      "metadata": {
        "id": "X-lYh1_HHZ2Y"
      },
      "execution_count": null,
      "outputs": []
    }
  ]
}